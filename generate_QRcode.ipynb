{
  "nbformat": 4,
  "nbformat_minor": 0,
  "metadata": {
    "colab": {
      "provenance": [],
      "authorship_tag": "ABX9TyPhZIE3WHF5rQIE/ssMS9Qb",
      "include_colab_link": true
    },
    "kernelspec": {
      "name": "python3",
      "display_name": "Python 3"
    },
    "language_info": {
      "name": "python"
    }
  },
  "cells": [
    {
      "cell_type": "markdown",
      "metadata": {
        "id": "view-in-github",
        "colab_type": "text"
      },
      "source": [
        "<a href=\"https://colab.research.google.com/github/ArmanveerKaur/mini-projrct-qr-code-generator/blob/main/generate_QRcode.ipynb\" target=\"_parent\"><img src=\"https://colab.research.google.com/assets/colab-badge.svg\" alt=\"Open In Colab\"/></a>"
      ]
    },
    {
      "cell_type": "code",
      "source": [
        "!pip install pyqrcode pypng\n",
        "#importing library\n",
        "import pyqrcode\n",
        "#generate qr code\n",
        "qr_code=pyqrcode.create(\"https://www.linkedin.com/in/armanveer-kaur-937a7b268\")\n",
        "#save as png file\n",
        "qr_code.png(\"linkedin_profile.png\",scale=4)"
      ],
      "metadata": {
        "colab": {
          "base_uri": "https://localhost:8080/"
        },
        "id": "gzmyu72U7tBi",
        "outputId": "70609c1c-a822-4ce8-ba63-199d86188c98"
      },
      "execution_count": 3,
      "outputs": [
        {
          "output_type": "stream",
          "name": "stdout",
          "text": [
            "Looking in indexes: https://pypi.org/simple, https://us-python.pkg.dev/colab-wheels/public/simple/\n",
            "Requirement already satisfied: pyqrcode in /usr/local/lib/python3.10/dist-packages (1.2.1)\n",
            "Requirement already satisfied: pypng in /usr/local/lib/python3.10/dist-packages (0.20220715.0)\n"
          ]
        }
      ]
    }
  ]
}